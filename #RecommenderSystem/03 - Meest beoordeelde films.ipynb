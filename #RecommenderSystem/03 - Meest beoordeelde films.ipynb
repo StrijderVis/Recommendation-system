{
 "cells": [
  {
   "cell_type": "markdown",
   "metadata": {},
   "source": [
    "# 🍿 Aanbevelingen gebaseerd op de meest beoordeelde films\n",
    "Je begint met het genereren van aanbevelingen op basis van de meest beoordeelde films. Hoewel deze benadering niet gepersonaliseerd is, blijft het veelgebruikt en biedt het een kans om vertrouwd te raken met de Streamlit-app die zich in de app-directory bevindt.\n"
   ]
  },
  {
   "cell_type": "markdown",
   "metadata": {},
   "source": [
    "### 1. Bereken het totaal aantal beoordelingen per film\n",
    "In deze sectie verkennen we de meest populaire films in onze dataset op basis van het aantal beoordelingen dat ze hebben ontvangen. Door films te identificeren met het hoogste aantal beoordelingen, kunnen we beter inzicht krijgen in gebruikersbetrokkenheidstrends, aangezien deze films waarschijnlijk breder worden herkend en gewaardeerd door een groot publiek.\n",
    "\n",
    "De code hieronder zal:\n",
    "\n",
    "- De beoordelingsdata laden,\n",
    "- De beoordelingen groeperen per unieke film,\n",
    "- Tellen hoe vaak elke film is beoordeeld,\n",
    "- En tot slot de top 10 meest beoordeelde films in de dataset weergeven."
   ]
  },
  {
   "cell_type": "code",
   "execution_count": 14,
   "metadata": {},
   "outputs": [
    {
     "data": {
      "text/html": [
       "<div>\n",
       "<style scoped>\n",
       "    .dataframe tbody tr th:only-of-type {\n",
       "        vertical-align: middle;\n",
       "    }\n",
       "\n",
       "    .dataframe tbody tr th {\n",
       "        vertical-align: top;\n",
       "    }\n",
       "\n",
       "    .dataframe thead th {\n",
       "        text-align: right;\n",
       "    }\n",
       "</style>\n",
       "<table border=\"1\" class=\"dataframe\">\n",
       "  <thead>\n",
       "    <tr style=\"text-align: right;\">\n",
       "      <th></th>\n",
       "      <th>movieId</th>\n",
       "      <th>count</th>\n",
       "    </tr>\n",
       "  </thead>\n",
       "  <tbody>\n",
       "    <tr>\n",
       "      <th>314</th>\n",
       "      <td>356</td>\n",
       "      <td>329</td>\n",
       "    </tr>\n",
       "    <tr>\n",
       "      <th>277</th>\n",
       "      <td>318</td>\n",
       "      <td>317</td>\n",
       "    </tr>\n",
       "    <tr>\n",
       "      <th>257</th>\n",
       "      <td>296</td>\n",
       "      <td>307</td>\n",
       "    </tr>\n",
       "    <tr>\n",
       "      <th>510</th>\n",
       "      <td>593</td>\n",
       "      <td>279</td>\n",
       "    </tr>\n",
       "    <tr>\n",
       "      <th>1938</th>\n",
       "      <td>2571</td>\n",
       "      <td>278</td>\n",
       "    </tr>\n",
       "    <tr>\n",
       "      <th>224</th>\n",
       "      <td>260</td>\n",
       "      <td>251</td>\n",
       "    </tr>\n",
       "    <tr>\n",
       "      <th>418</th>\n",
       "      <td>480</td>\n",
       "      <td>238</td>\n",
       "    </tr>\n",
       "    <tr>\n",
       "      <th>97</th>\n",
       "      <td>110</td>\n",
       "      <td>237</td>\n",
       "    </tr>\n",
       "    <tr>\n",
       "      <th>507</th>\n",
       "      <td>589</td>\n",
       "      <td>224</td>\n",
       "    </tr>\n",
       "    <tr>\n",
       "      <th>461</th>\n",
       "      <td>527</td>\n",
       "      <td>220</td>\n",
       "    </tr>\n",
       "  </tbody>\n",
       "</table>\n",
       "</div>"
      ],
      "text/plain": [
       "      movieId  count\n",
       "314       356    329\n",
       "277       318    317\n",
       "257       296    307\n",
       "510       593    279\n",
       "1938     2571    278\n",
       "224       260    251\n",
       "418       480    238\n",
       "97        110    237\n",
       "507       589    224\n",
       "461       527    220"
      ]
     },
     "execution_count": 14,
     "metadata": {},
     "output_type": "execute_result"
    }
   ],
   "source": [
    "# Import the pandas library for data manipulation\n",
    "import pandas as pd\n",
    "\n",
    "# Load the ratings data from a CSV file into a DataFrame\n",
    "df = pd.read_csv('data/ratings.csv')\n",
    "\n",
    "# Group the data by 'movieId' and calculate the count of ratings for each movie\n",
    "# Then, reset the index to convert the grouped data back to a standard DataFrame\n",
    "df = df.groupby('movieId')['rating'].agg(['count']).reset_index()\n",
    "df = df.sort_values(by='count', ascending=False)\n",
    "\n",
    "# Pak alleen de top 10 films voor de recommendation\n",
    "df = df.head(10)\n",
    "df\n",
    "# Sort the DataFrame by the count of ratings in descending order and select the top 10 movies\n",
    "\n",
    "# Code goes here\n"
   ]
  },
  {
   "cell_type": "markdown",
   "metadata": {},
   "source": [
    "### 2. Sla de aanbevelingen op\n",
    "\n",
    "Selecteer de top 10 boeken op basis van het aantal beoordelingen. Sla deze aanbevelingen op in een bestand genaamd `recommendations-most-reviewed.csv`. Werk vervolgens de directory `app/recommendations` bij door het bestaande aanbevelingenbestand te vervangen door dit nieuwe bestand. De huidige aanbevelingen in de app vereisen aanzienlijke verbeteringen. Zorg ervoor dat het bestand de volgende kolommen bevat: `movieId,count`.\n"
   ]
  },
  {
   "cell_type": "code",
   "execution_count": 13,
   "metadata": {},
   "outputs": [],
   "source": [
    "# Code goes here\n",
    "df.to_csv('app/recommendations/recommendations-most-reviewed.csv', index=False)"
   ]
  },
  {
   "cell_type": "markdown",
   "metadata": {},
   "source": [
    "### 3. Start de Streamlit-app\n",
    "Dit is misschien je eerste ervaring met het draaien van een Streamlit-app. We hebben je voorzien van boilerplate code om je aanbevelingen te bekijken via een functionele interface. Naarmate je vordert, wil je mogelijk enkele knoppen aanpassen of extra metadata toevoegen. Het is daarom handig om vertrouwd te raken met de [Streamlit documentatie](https://docs.streamlit.io/library/api-reference). Voor beginnende data scientists is het kunnen maken van snelle proof-of-concepts essentieel.\n",
    "\n",
    "1. Installeer Streamlit\n",
    "2. Ga naar de terminal, navigeer naar de `app` map en typ `streamlit run app.py`"
   ]
  }
 ],
 "metadata": {
  "kernelspec": {
   "display_name": "Python 3 (ipykernel)",
   "language": "python",
   "name": "python3"
  },
  "language_info": {
   "codemirror_mode": {
    "name": "ipython",
    "version": 3
   },
   "file_extension": ".py",
   "mimetype": "text/x-python",
   "name": "python",
   "nbconvert_exporter": "python",
   "pygments_lexer": "ipython3",
   "version": "3.12.4"
  }
 },
 "nbformat": 4,
 "nbformat_minor": 4
}

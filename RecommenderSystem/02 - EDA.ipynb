{
 "cells": [
  {
   "cell_type": "markdown",
   "metadata": {},
   "source": [
    "# 🔬🍿 Data exploratie en voorbereiding\n",
    "In deze notebook gaan we de dataset onderzoeken. Gebruik de verschillende Exploratory Data Analysis (EDA) methoden die je vorige sprint geleerd hebt."
   ]
  },
  {
   "cell_type": "markdown",
   "metadata": {},
   "source": [
    "### 1. Het laden van de data\n",
    "Laad de vier datasets en verken de gegevens."
   ]
  },
  {
   "cell_type": "code",
   "execution_count": 1,
   "metadata": {},
   "outputs": [
    {
     "data": {
      "text/plain": [
       "0        80\n",
       "1        95\n",
       "2       116\n",
       "3       105\n",
       "4       118\n",
       "       ... \n",
       "9737     94\n",
       "9738     92\n",
       "9739    157\n",
       "9740     93\n",
       "9741     99\n",
       "Name: Runtime2, Length: 9742, dtype: object"
      ]
     },
     "execution_count": 1,
     "metadata": {},
     "output_type": "execute_result"
    }
   ],
   "source": [
    "import pandas as pd\n",
    " \n",
    "df = pd.read_csv('data/movies.csv')\n",
    " \n",
    "df['Runtime2'] = df['Runtime'].str.replace(' min', '')\n",
    "\n",
    "df['Runtime2']\n",
    " "
   ]
  },
  {
   "cell_type": "code",
   "execution_count": 3,
   "metadata": {},
   "outputs": [
    {
     "name": "stdout",
     "output_type": "stream",
     "text": [
      "<class 'pandas.core.frame.DataFrame'>\n",
      "RangeIndex: 9742 entries, 0 to 9741\n",
      "Data columns (total 32 columns):\n",
      " #   Column        Non-Null Count  Dtype  \n",
      "---  ------        --------------  -----  \n",
      " 0   Unnamed: 0    9742 non-null   int64  \n",
      " 1   Title         9742 non-null   object \n",
      " 2   Year          9742 non-null   int32  \n",
      " 3   Rated         9337 non-null   object \n",
      " 4   Released      9679 non-null   object \n",
      " 5   Runtime       9724 non-null   object \n",
      " 6   Genre         9726 non-null   object \n",
      " 7   Director      9642 non-null   object \n",
      " 8   Writer        9490 non-null   object \n",
      " 9   Actors        9709 non-null   object \n",
      " 10  Plot          9723 non-null   object \n",
      " 11  Language      9697 non-null   object \n",
      " 12  Country       9721 non-null   object \n",
      " 13  Awards        8127 non-null   object \n",
      " 14  Poster        9723 non-null   object \n",
      " 15  Ratings       9742 non-null   object \n",
      " 16  Metascore     6918 non-null   float64\n",
      " 17  imdbRating    9725 non-null   float64\n",
      " 18  imdbVotes     9726 non-null   object \n",
      " 19  imdbID        9742 non-null   object \n",
      " 20  Type          9742 non-null   object \n",
      " 21  DVD           135 non-null    object \n",
      " 22  BoxOffice     7154 non-null   object \n",
      " 23  Production    57 non-null     object \n",
      " 24  Website       0 non-null      float64\n",
      " 25  Response      9742 non-null   bool   \n",
      " 26  Season        18 non-null     float64\n",
      " 27  Episode       18 non-null     float64\n",
      " 28  seriesID      18 non-null     object \n",
      " 29  totalSeasons  81 non-null     float64\n",
      " 30  movieId       9730 non-null   float64\n",
      " 31  Runtime2      9724 non-null   object \n",
      "dtypes: bool(1), float64(7), int32(1), int64(1), object(22)\n",
      "memory usage: 2.3+ MB\n"
     ]
    }
   ],
   "source": [
    "df['Year'] = df['Year'].str.replace('–', '')\n",
    "df['Year'] = df['Year'].astype(int)\n",
    "df.info()\n"
   ]
  },
  {
   "cell_type": "code",
   "execution_count": null,
   "metadata": {},
   "outputs": [],
   "source": []
  }
 ],
 "metadata": {
  "kernelspec": {
   "display_name": "Python 3 (ipykernel)",
   "language": "python",
   "name": "python3"
  },
  "language_info": {
   "codemirror_mode": {
    "name": "ipython",
    "version": 3
   },
   "file_extension": ".py",
   "mimetype": "text/x-python",
   "name": "python",
   "nbconvert_exporter": "python",
   "pygments_lexer": "ipython3",
   "version": "3.12.4"
  }
 },
 "nbformat": 4,
 "nbformat_minor": 4
}

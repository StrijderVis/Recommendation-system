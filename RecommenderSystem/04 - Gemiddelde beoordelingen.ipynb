{
 "cells": [
  {
   "cell_type": "markdown",
   "metadata": {},
   "source": [
    "# 🍿 Aanbevelingen gebaseerd op gemiddelde beoordelingen\n",
    "In dit notebook berekenen we de gemiddelde beoordeling voor elke film in onze dataset. Dit geeft inzicht in hoe goed elke film gemiddeld wordt ontvangen en helpt ons niet alleen de meest populaire films te identificeren, maar ook films met een hogere gebruikerswaardering. Door de gemiddelde beoordelingen te begrijpen, kunnen we aanbevelingen prioriteren voor films die zowel populair als goed beoordeeld zijn.\n"
   ]
  },
  {
   "cell_type": "markdown",
   "metadata": {},
   "source": [
    "### 1. Bereken de gemiddelde beoordelingen"
   ]
  },
  {
   "cell_type": "code",
   "execution_count": 2,
   "metadata": {},
   "outputs": [
    {
     "data": {
      "text/html": [
       "<div>\n",
       "<style scoped>\n",
       "    .dataframe tbody tr th:only-of-type {\n",
       "        vertical-align: middle;\n",
       "    }\n",
       "\n",
       "    .dataframe tbody tr th {\n",
       "        vertical-align: top;\n",
       "    }\n",
       "\n",
       "    .dataframe thead th {\n",
       "        text-align: right;\n",
       "    }\n",
       "</style>\n",
       "<table border=\"1\" class=\"dataframe\">\n",
       "  <thead>\n",
       "    <tr style=\"text-align: right;\">\n",
       "      <th></th>\n",
       "      <th>movieId</th>\n",
       "      <th>average_rating</th>\n",
       "    </tr>\n",
       "  </thead>\n",
       "  <tbody>\n",
       "    <tr>\n",
       "      <th>7638</th>\n",
       "      <td>88448</td>\n",
       "      <td>5.0</td>\n",
       "    </tr>\n",
       "    <tr>\n",
       "      <th>8089</th>\n",
       "      <td>100556</td>\n",
       "      <td>5.0</td>\n",
       "    </tr>\n",
       "    <tr>\n",
       "      <th>9065</th>\n",
       "      <td>143031</td>\n",
       "      <td>5.0</td>\n",
       "    </tr>\n",
       "    <tr>\n",
       "      <th>9076</th>\n",
       "      <td>143511</td>\n",
       "      <td>5.0</td>\n",
       "    </tr>\n",
       "    <tr>\n",
       "      <th>9078</th>\n",
       "      <td>143559</td>\n",
       "      <td>5.0</td>\n",
       "    </tr>\n",
       "    <tr>\n",
       "      <th>...</th>\n",
       "      <td>...</td>\n",
       "      <td>...</td>\n",
       "    </tr>\n",
       "    <tr>\n",
       "      <th>9253</th>\n",
       "      <td>157172</td>\n",
       "      <td>0.5</td>\n",
       "    </tr>\n",
       "    <tr>\n",
       "      <th>7536</th>\n",
       "      <td>85334</td>\n",
       "      <td>0.5</td>\n",
       "    </tr>\n",
       "    <tr>\n",
       "      <th>6486</th>\n",
       "      <td>53453</td>\n",
       "      <td>0.5</td>\n",
       "    </tr>\n",
       "    <tr>\n",
       "      <th>5200</th>\n",
       "      <td>8494</td>\n",
       "      <td>0.5</td>\n",
       "    </tr>\n",
       "    <tr>\n",
       "      <th>7145</th>\n",
       "      <td>71810</td>\n",
       "      <td>0.5</td>\n",
       "    </tr>\n",
       "  </tbody>\n",
       "</table>\n",
       "<p>9724 rows × 2 columns</p>\n",
       "</div>"
      ],
      "text/plain": [
       "      movieId  average_rating\n",
       "7638    88448             5.0\n",
       "8089   100556             5.0\n",
       "9065   143031             5.0\n",
       "9076   143511             5.0\n",
       "9078   143559             5.0\n",
       "...       ...             ...\n",
       "9253   157172             0.5\n",
       "7536    85334             0.5\n",
       "6486    53453             0.5\n",
       "5200     8494             0.5\n",
       "7145    71810             0.5\n",
       "\n",
       "[9724 rows x 2 columns]"
      ]
     },
     "execution_count": 2,
     "metadata": {},
     "output_type": "execute_result"
    }
   ],
   "source": [
    "# Import the pandas library\n",
    "import pandas as pd\n",
    "\n",
    "# Load the ratings data into a DataFrame\n",
    "df = pd.read_csv('data/ratings.csv')\n",
    "\n",
    "# Group the data by 'movieId' and calculate the average rating for each movie\n",
    "df = df.groupby('movieId')['rating'].mean().reset_index()\n",
    "# Code goes here\n",
    "\n",
    "# Rename the 'rating' column to 'average_rating' for clarity\n",
    "df = df.rename(columns={'rating': 'average_rating'})\n",
    "# Code goes here\n",
    "\n",
    "# Sort the DataFrame by average rating in descending order\n",
    "df = df.sort_values(by = 'average_rating', ascending=False)\n",
    "# Code goes here\n",
    "\n",
    "# Display the DataFrame with average ratings\n",
    "df\n",
    "# Code goes here\n"
   ]
  },
  {
   "cell_type": "markdown",
   "metadata": {},
   "source": [
    "### 2. Sla de aanbevelingen op\n",
    "\"Kies de top 10 op basis van beoordelingen en sla deze op als `recommendations-ratings-avg.csv`, waarbij je het bestaande bestand in de app-directory vervangt. Zorg ervoor dat het bestand de kolommen `movieId;mean` bevat. Nadat je het hebt opgeslagen, kun je Streamlit vernieuwen om de resultaten te zien.\""
   ]
  },
  {
   "cell_type": "code",
   "execution_count": 3,
   "metadata": {},
   "outputs": [],
   "source": [
    "# Code goes here\n",
    "df.to_csv('app/recommendations/recommendations-ratings-avg.csv')"
   ]
  },
  {
   "cell_type": "markdown",
   "metadata": {},
   "source": [
    "### 3. Reflecteer op de aanbevelingen\n",
    "Bekijk de gemiddelde beoordeling en het aantal beoordelingen voor de top 10 films. Denk na over waarom het uitsluitend gebruiken van gemiddelde beoordelingen niet de beste methode is voor aanbevelingen.\n"
   ]
  }
 ],
 "metadata": {
  "kernelspec": {
   "display_name": "Python 3",
   "language": "python",
   "name": "python3"
  },
  "language_info": {
   "codemirror_mode": {
    "name": "ipython",
    "version": 3
   },
   "file_extension": ".py",
   "mimetype": "text/x-python",
   "name": "python",
   "nbconvert_exporter": "python",
   "pygments_lexer": "ipython3",
   "version": "3.12.4"
  }
 },
 "nbformat": 4,
 "nbformat_minor": 2
}

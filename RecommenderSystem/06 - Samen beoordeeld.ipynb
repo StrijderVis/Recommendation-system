{
 "cells": [
  {
   "attachments": {},
   "cell_type": "markdown",
   "metadata": {},
   "source": [
    "# 🍿 Aanbevelingen gebaseerd op Vaak Samen Beoordeeld (frequentie)\n",
    "\n",
    "In dit notebook verkennen we filmassociaties op basis van gebruikersgedrag door paren van films te identificeren die vaak door dezelfde gebruikers zijn beoordeeld. Dit kan verborgen relaties tussen films onthullen en ons helpen inzicht te krijgen in gebruikersvoorkeuren en mogelijke overeenkomsten tussen films die op het eerste gezicht misschien niet duidelijk zijn.\n",
    "\n",
    "Door te onderzoeken welke films samen worden beoordeeld, kunnen we:\n",
    "\n",
    "- Associaties tussen films identificeren op basis van gebruikersinteracties.\n",
    "- Inzichten genereren voor mogelijke aanbevelingen aan gebruikers die al een van de films in een vaak beoordeeld paar hebben bekeken.\n",
    "- De basis leggen voor collaborative filtering-technieken, die gebruik maken van gebruikersgedrag om gerelateerde films aan te bevelen.\n",
    "\n",
    "Het proces omvat:\n",
    "\n",
    "1. Het groeperen van onze data per gebruiker om lijsten van films te verkrijgen die ze hebben beoordeeld.\n",
    "2. Het genereren van unieke paren van films die elke gebruiker heeft beoordeeld.\n",
    "3. Het tellen van de frequentie van elk paar over alle gebruikers om de meest voorkomende combinaties te vinden.\n",
    "\n",
    "Aan het einde van dit notebook hebben we een lijst van filmparen, samen met het aantal keren dat elk paar samen werd beoordeeld. Dit geeft ons inzichten in filmassociaties op basis van gebruikersgedrag. Deze data kan dienen als basis voor verdere aanbevelingsalgoritmen en biedt een collaborative filtering-benadering om gerelateerde films aan te bevelen.\n"
   ]
  },
  {
   "cell_type": "markdown",
   "metadata": {},
   "source": [
    "### 1. Korte introductie tot permutaties\n",
    "Gebruik de functie `permutations` uit `itertools` om combinaties van boeken te maken die vaak samen worden beoordeeld."
   ]
  },
  {
   "cell_type": "code",
   "execution_count": null,
   "metadata": {},
   "outputs": [],
   "source": [
    "from itertools import permutations \n",
    "\n",
    "# items bought together\n",
    "items = ['milk', 'bread', 'eggs']\n",
    "\n",
    "# this code creates sets of 2 items from the itemset above\n",
    "list(permutations(items, 2)) "
   ]
  },
  {
   "cell_type": "markdown",
   "metadata": {},
   "source": [
    "### 2. Tel de combinaties van samen beoordeelde films\n",
    "Maak combinaties met `permutations` en tel hoe vaak elke combinatie voorkomt. Dit proces kan veel tijd kosten, afhankelijk van je initiële data-analyse."
   ]
  },
  {
   "cell_type": "code",
   "execution_count": 1,
   "metadata": {},
   "outputs": [],
   "source": [
    "# Import the pandas library\n",
    "import pandas as pd\n",
    "from itertools import permutations \n",
    "\n",
    "# Load the ratings data\n",
    "df = pd.read_csv('data/ratings.csv')\n",
    "\n",
    "def create_combinations(x):\n",
    "  combinations = pd.DataFrame(list(permutations(x.values, 2)), columns=['movie_a','movie_b'])    \n",
    "  return combinations\n",
    "\n",
    "# use the function to create combinations\n",
    "book_combinations = df.groupby('userId')['movieId'].apply(create_combinations) \n",
    "\n",
    "book_combinations = book_combinations.reset_index(drop=True)\n",
    "\n",
    "# count the combinations\n",
    "combinations_counts = book_combinations.groupby(['movie_a', 'movie_b']).size()\n",
    "combinations_counts = combinations_counts.to_frame(name = 'count').reset_index()\n"
   ]
  },
  {
   "cell_type": "code",
   "execution_count": 2,
   "metadata": {},
   "outputs": [
    {
     "data": {
      "text/html": [
       "<div>\n",
       "<style scoped>\n",
       "    .dataframe tbody tr th:only-of-type {\n",
       "        vertical-align: middle;\n",
       "    }\n",
       "\n",
       "    .dataframe tbody tr th {\n",
       "        vertical-align: top;\n",
       "    }\n",
       "\n",
       "    .dataframe thead th {\n",
       "        text-align: right;\n",
       "    }\n",
       "</style>\n",
       "<table border=\"1\" class=\"dataframe\">\n",
       "  <thead>\n",
       "    <tr style=\"text-align: right;\">\n",
       "      <th></th>\n",
       "      <th>movie_a</th>\n",
       "      <th>movie_b</th>\n",
       "      <th>count</th>\n",
       "    </tr>\n",
       "  </thead>\n",
       "  <tbody>\n",
       "    <tr>\n",
       "      <th>1159332</th>\n",
       "      <td>356</td>\n",
       "      <td>318</td>\n",
       "      <td>231</td>\n",
       "    </tr>\n",
       "    <tr>\n",
       "      <th>1016695</th>\n",
       "      <td>318</td>\n",
       "      <td>356</td>\n",
       "      <td>231</td>\n",
       "    </tr>\n",
       "    <tr>\n",
       "      <th>1159313</th>\n",
       "      <td>356</td>\n",
       "      <td>296</td>\n",
       "      <td>230</td>\n",
       "    </tr>\n",
       "    <tr>\n",
       "      <th>947678</th>\n",
       "      <td>296</td>\n",
       "      <td>356</td>\n",
       "      <td>230</td>\n",
       "    </tr>\n",
       "    <tr>\n",
       "      <th>947641</th>\n",
       "      <td>296</td>\n",
       "      <td>318</td>\n",
       "      <td>222</td>\n",
       "    </tr>\n",
       "    <tr>\n",
       "      <th>1016642</th>\n",
       "      <td>318</td>\n",
       "      <td>296</td>\n",
       "      <td>222</td>\n",
       "    </tr>\n",
       "    <tr>\n",
       "      <th>1908623</th>\n",
       "      <td>593</td>\n",
       "      <td>296</td>\n",
       "      <td>207</td>\n",
       "    </tr>\n",
       "    <tr>\n",
       "      <th>947871</th>\n",
       "      <td>296</td>\n",
       "      <td>593</td>\n",
       "      <td>207</td>\n",
       "    </tr>\n",
       "    <tr>\n",
       "      <th>1159559</th>\n",
       "      <td>356</td>\n",
       "      <td>593</td>\n",
       "      <td>199</td>\n",
       "    </tr>\n",
       "    <tr>\n",
       "      <th>1016885</th>\n",
       "      <td>318</td>\n",
       "      <td>593</td>\n",
       "      <td>199</td>\n",
       "    </tr>\n",
       "  </tbody>\n",
       "</table>\n",
       "</div>"
      ],
      "text/plain": [
       "         movie_a  movie_b  count\n",
       "1159332      356      318    231\n",
       "1016695      318      356    231\n",
       "1159313      356      296    230\n",
       "947678       296      356    230\n",
       "947641       296      318    222\n",
       "1016642      318      296    222\n",
       "1908623      593      296    207\n",
       "947871       296      593    207\n",
       "1159559      356      593    199\n",
       "1016885      318      593    199"
      ]
     },
     "execution_count": 2,
     "metadata": {},
     "output_type": "execute_result"
    }
   ],
   "source": [
    "combinations_counts.sort_values('count', ascending=False).head(10)"
   ]
  },
  {
   "cell_type": "markdown",
   "metadata": {},
   "source": [
    "### 3. Sla de aanbevelingen op\n",
    "Gezien de mogelijke omvang van de output, beperk het CSV-bestand tot de top 10 aanbevelingen per boek. Sla dit op als `recommendations-seeded-freq.csv` en werk het bestand bij in de app-directory. Vergeet niet om het codeblok dat bij deze stap hoort in te schakelen als het eerder was uitgecommentarieerd."
   ]
  },
  {
   "cell_type": "code",
   "execution_count": 3,
   "metadata": {},
   "outputs": [],
   "source": [
    "combinations_counts = combinations_counts.sort_values('count', ascending=False)\n",
    "\n",
    "# only select top 10 per combination\n",
    "df1 = combinations_counts.sort_values('count', ascending = False).groupby('movie_a').head(10)\n",
    "\n",
    "df1.to_csv('recommendations-seeded-freq.csv')"
   ]
  }
 ],
 "metadata": {
  "kernelspec": {
   "display_name": "Python 3",
   "language": "python",
   "name": "python3"
  },
  "language_info": {
   "codemirror_mode": {
    "name": "ipython",
    "version": 3
   },
   "file_extension": ".py",
   "mimetype": "text/x-python",
   "name": "python",
   "nbconvert_exporter": "python",
   "pygments_lexer": "ipython3",
   "version": "3.12.4"
  },
  "orig_nbformat": 4
 },
 "nbformat": 4,
 "nbformat_minor": 2
}
